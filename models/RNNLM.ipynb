{
 "cells": [
  {
   "cell_type": "code",
   "execution_count": 1,
   "metadata": {},
   "outputs": [],
   "source": [
    "import torch\n",
    "import torch.nn as nn\n",
    "\n",
    "class MyRNNLM(nn.Module):\n",
    "    def __init__(self, vocab_size, embedding_dim, hidden_dim):\n",
    "        super(MyRNNLM, self).__init__()\n",
    "        self.embedding = nn.Embedding(vocab_size, embedding_dim)\n",
    "        self.hidden_dim = hidden_dim\n",
    "        self.U = nn.Parameter(torch.randn(embedding_dim + hidden_dim, hidden_dim))\n",
    "        self.V = nn.Parameter(torch.randn(hidden_dim, vocab_size))\n",
    "        self.f = nn.Sigmoid()  \n",
    "        self.g = nn.Softmax(dim=1)\n",
    "\n",
    "    def forward(self, word, hidden):\n",
    "        word_embedding = self.embedding(word)\n",
    "        x = torch.cat((word_embedding, hidden), dim=1)\n",
    "        hidden = self.f(torch.mm(x, self.U))\n",
    "        output = self.g(torch.mm(hidden, self.V))\n",
    "        return output, hidden\n",
    "\n",
    "    def init_hidden(self, batch_size):\n",
    "        return torch.zeros(batch_size, self.hidden_dim)"
   ]
  },
  {
   "cell_type": "code",
   "execution_count": 3,
   "metadata": {},
   "outputs": [],
   "source": [
    "vocab_size = 10000\n",
    "embedding_dim = 100\n",
    "hidden_dim = 200\n",
    "batch_size = 1\n",
    "\n",
    "model = MyRNNLM(vocab_size, embedding_dim, hidden_dim)\n",
    "hidden = model.init_hidden(batch_size)\n",
    "word = torch.tensor([5]) \n",
    "\n",
    "output, hidden = model(word, hidden)"
   ]
  }
 ],
 "metadata": {
  "kernelspec": {
   "display_name": "Python 3",
   "language": "python",
   "name": "python3"
  },
  "language_info": {
   "codemirror_mode": {
    "name": "ipython",
    "version": 3
   },
   "file_extension": ".py",
   "mimetype": "text/x-python",
   "name": "python",
   "nbconvert_exporter": "python",
   "pygments_lexer": "ipython3",
   "version": "3.11.11"
  }
 },
 "nbformat": 4,
 "nbformat_minor": 2
}
